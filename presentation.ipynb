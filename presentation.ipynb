{
 "cells": [
  {
   "attachments": {},
   "cell_type": "markdown",
   "metadata": {},
   "source": [
    "![AI-ML](https://ospreydata.com/wp-content/uploads/AI-vs-ML-vs-Deep-Learning.png)"
   ]
  },
  {
   "attachments": {},
   "cell_type": "markdown",
   "metadata": {},
   "source": [
    "# AI in Banking\n",
    "\n",
    "### What are some of the common applications of AI in banking??\n",
    "\n",
    "![](https://www.inbenta.com/wp-content/uploads/2021/11/conversational-ai-in-banking-1.png)"
   ]
  },
  {
   "attachments": {},
   "cell_type": "markdown",
   "metadata": {},
   "source": [
    "![](https://botcore.ai/wp-content/uploads/2022/07/Chatbots-in-the-Banking-and-Finance-Industry.png)"
   ]
  },
  {
   "attachments": {},
   "cell_type": "markdown",
   "metadata": {},
   "source": [
    "# Chatbots\n",
    "\n",
    "Financial institutions deploy conversational banking chatbots to not just ensure a smooth, modern customer experience with self-serve and instant query resolution capabilities, but also setting up a foundation for the future of customer engagement.\n",
    "\n"
   ]
  },
  {
   "attachments": {},
   "cell_type": "markdown",
   "metadata": {},
   "source": [
    "## Why are chatbots in banking required?\n",
    "\n",
    "Let us understand the major driving factors for the need for AI banking assistants.\n",
    "### 1. High abandonment rates\n",
    "\n",
    "As per a study from Cornerstone Advisors, roughly 50% of the surveyed banks said that half of their checking accounts on digital channels were abandoned. And the abandonment of unsecured and secured loan applications was even higher.\n",
    "\n",
    "Banks need chatbots to close the gap between a potential customer and the digital account opening systems. With the speed of conflict resolution of a chatbot, abandonment rates will automatically decrease, and customer experience will level up.\n",
    "\n",
    "### 2. Data storage and management\n",
    "\n",
    "Banks have a lot of data about their customers. But the data is disintegrated in a form that during a query resolution, customer service agents need to go through several files and folders just to understand what is the query about.\n",
    "\n",
    "With the use of chatbots in banking, data can be collected, stored, and managed in a form that eases query resolution. Not just that, chatbots can help customers by providing advice. Data collected by chatbots can be used for Personal Financial Management (PFM).\n",
    "### 3. Detailed and personalized conversations\n",
    "\n",
    "Limiting personalization to just using the name of the customer will not be fair for a banking chatbot. \n",
    "\n",
    "Chatbots can help in personalizing the marketing efforts of the bank on the basis of the immense data. Instead of marketing randomly, chatbots can help in marketing as per the need of the customers."
   ]
  },
  {
   "cell_type": "markdown",
   "metadata": {},
   "source": []
  },
  {
   "cell_type": "markdown",
   "metadata": {},
   "source": []
  },
  {
   "cell_type": "markdown",
   "metadata": {},
   "source": []
  },
  {
   "cell_type": "markdown",
   "metadata": {},
   "source": []
  },
  {
   "cell_type": "markdown",
   "metadata": {},
   "source": []
  },
  {
   "cell_type": "code",
   "execution_count": 1,
   "metadata": {},
   "outputs": [],
   "source": []
  }
 ],
 "metadata": {
  "kernelspec": {
   "display_name": "Python 3",
   "language": "python",
   "name": "python3"
  },
  "language_info": {
   "codemirror_mode": {
    "name": "ipython",
    "version": 3
   },
   "file_extension": ".py",
   "mimetype": "text/x-python",
   "name": "python",
   "nbconvert_exporter": "python",
   "pygments_lexer": "ipython3",
   "version": "3.10.6"
  },
  "orig_nbformat": 4,
  "vscode": {
   "interpreter": {
    "hash": "31f2aee4e71d21fbe5cf8b01ff0e069b9275f58929596ceb00d14d90e3e16cd6"
   }
  }
 },
 "nbformat": 4,
 "nbformat_minor": 2
}
