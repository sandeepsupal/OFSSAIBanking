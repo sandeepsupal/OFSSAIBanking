{
  "cells": [
    {
      "cell_type": "code",
      "execution_count": 1,
      "metadata": {
        "id": "XkP5tIvAe6pn"
      },
      "outputs": [],
      "source": [
        "import pandas as pd\n",
        "import plotly.express as pe\n",
        "import numpy as np\n",
        "import xgboost as xgb\n",
        "from sklearn.preprocessing import StandardScaler\n",
        "from sklearn.model_selection import train_test_split\n",
        "from sklearn.decomposition import PCA\n",
        "from sklearn.metrics import confusion_matrix, f1_score, roc_auc_score, precision_score, recall_score, classification_report\n",
        "\n",
        "from hyperopt import hp,tpe,fmin,Trials,STATUS_OK,space_eval\n",
        "from sklearn.model_selection import StratifiedKFold,cross_val_score\n",
        "from statistics import mean\n",
        "\n",
        "\n",
        "from sklearn.linear_model import LogisticRegression\n",
        "from sklearn.tree import DecisionTreeClassifier\n",
        "from sklearn.svm import SVC\n"
      ]
    },
    {
      "cell_type": "code",
      "execution_count": 2,
      "metadata": {
        "colab": {
          "base_uri": "https://localhost:8080/",
          "height": 488
        },
        "id": "d1IVmhNaL5Ra",
        "outputId": "017ae0b8-0d27-4ede-b23e-27c1aa6c41d4"
      },
      "outputs": [
        {
          "data": {
            "text/html": [
              "<div>\n",
              "<style scoped>\n",
              "    .dataframe tbody tr th:only-of-type {\n",
              "        vertical-align: middle;\n",
              "    }\n",
              "\n",
              "    .dataframe tbody tr th {\n",
              "        vertical-align: top;\n",
              "    }\n",
              "\n",
              "    .dataframe thead th {\n",
              "        text-align: right;\n",
              "    }\n",
              "</style>\n",
              "<table border=\"1\" class=\"dataframe\">\n",
              "  <thead>\n",
              "    <tr style=\"text-align: right;\">\n",
              "      <th></th>\n",
              "      <th>PCA_1</th>\n",
              "      <th>PCA_2</th>\n",
              "      <th>PCA_3</th>\n",
              "      <th>Class</th>\n",
              "    </tr>\n",
              "  </thead>\n",
              "  <tbody>\n",
              "    <tr>\n",
              "      <th>0</th>\n",
              "      <td>94407.854507</td>\n",
              "      <td>-93.620565</td>\n",
              "      <td>2.296309</td>\n",
              "      <td>1</td>\n",
              "    </tr>\n",
              "    <tr>\n",
              "      <th>1</th>\n",
              "      <td>94341.884035</td>\n",
              "      <td>435.393668</td>\n",
              "      <td>1.699793</td>\n",
              "      <td>1</td>\n",
              "    </tr>\n",
              "    <tr>\n",
              "      <th>2</th>\n",
              "      <td>90351.867921</td>\n",
              "      <td>146.538218</td>\n",
              "      <td>1.879951</td>\n",
              "      <td>1</td>\n",
              "    </tr>\n",
              "    <tr>\n",
              "      <th>3</th>\n",
              "      <td>87827.857829</td>\n",
              "      <td>-34.248732</td>\n",
              "      <td>4.186702</td>\n",
              "      <td>1</td>\n",
              "    </tr>\n",
              "    <tr>\n",
              "      <th>4</th>\n",
              "      <td>87294.854502</td>\n",
              "      <td>-92.228955</td>\n",
              "      <td>-0.746728</td>\n",
              "      <td>1</td>\n",
              "    </tr>\n",
              "    <tr>\n",
              "      <th>...</th>\n",
              "      <td>...</td>\n",
              "      <td>...</td>\n",
              "      <td>...</td>\n",
              "      <td>...</td>\n",
              "    </tr>\n",
              "    <tr>\n",
              "      <th>979</th>\n",
              "      <td>-72822.137080</td>\n",
              "      <td>61.185174</td>\n",
              "      <td>1.055759</td>\n",
              "      <td>0</td>\n",
              "    </tr>\n",
              "    <tr>\n",
              "      <th>980</th>\n",
              "      <td>-29162.144380</td>\n",
              "      <td>-70.173145</td>\n",
              "      <td>0.317346</td>\n",
              "      <td>0</td>\n",
              "    </tr>\n",
              "    <tr>\n",
              "      <th>981</th>\n",
              "      <td>-58601.141137</td>\n",
              "      <td>-11.078538</td>\n",
              "      <td>-1.843060</td>\n",
              "      <td>0</td>\n",
              "    </tr>\n",
              "    <tr>\n",
              "      <th>982</th>\n",
              "      <td>-27034.144838</td>\n",
              "      <td>-78.904244</td>\n",
              "      <td>1.118717</td>\n",
              "      <td>0</td>\n",
              "    </tr>\n",
              "    <tr>\n",
              "      <th>983</th>\n",
              "      <td>-44254.145169</td>\n",
              "      <td>-83.991683</td>\n",
              "      <td>3.775870</td>\n",
              "      <td>0</td>\n",
              "    </tr>\n",
              "  </tbody>\n",
              "</table>\n",
              "<p>984 rows × 4 columns</p>\n",
              "</div>"
            ],
            "text/plain": [
              "            PCA_1       PCA_2     PCA_3  Class\n",
              "0    94407.854507  -93.620565  2.296309      1\n",
              "1    94341.884035  435.393668  1.699793      1\n",
              "2    90351.867921  146.538218  1.879951      1\n",
              "3    87827.857829  -34.248732  4.186702      1\n",
              "4    87294.854502  -92.228955 -0.746728      1\n",
              "..            ...         ...       ...    ...\n",
              "979 -72822.137080   61.185174  1.055759      0\n",
              "980 -29162.144380  -70.173145  0.317346      0\n",
              "981 -58601.141137  -11.078538 -1.843060      0\n",
              "982 -27034.144838  -78.904244  1.118717      0\n",
              "983 -44254.145169  -83.991683  3.775870      0\n",
              "\n",
              "[984 rows x 4 columns]"
            ]
          },
          "execution_count": 2,
          "metadata": {},
          "output_type": "execute_result"
        }
      ],
      "source": [
        "df = pd.read_csv(\"./datasets/creditcard.csv\")\n",
        "df"
      ]
    },
    {
      "cell_type": "markdown",
      "metadata": {
        "id": "BfGuEqGoe6pv"
      },
      "source": [
        "## Exploration of data!"
      ]
    },
    {
      "cell_type": "code",
      "execution_count": 3,
      "metadata": {
        "colab": {
          "base_uri": "https://localhost:8080/",
          "height": 990
        },
        "id": "3CyFjbnBL7Qi",
        "outputId": "70d23b9b-7e2d-457b-fab9-fdcdfa8f15e3"
      },
      "outputs": [
        {
          "data": {
            "text/html": [
              "<div>\n",
              "<style scoped>\n",
              "    .dataframe tbody tr th:only-of-type {\n",
              "        vertical-align: middle;\n",
              "    }\n",
              "\n",
              "    .dataframe tbody tr th {\n",
              "        vertical-align: top;\n",
              "    }\n",
              "\n",
              "    .dataframe thead th {\n",
              "        text-align: right;\n",
              "    }\n",
              "</style>\n",
              "<table border=\"1\" class=\"dataframe\">\n",
              "  <thead>\n",
              "    <tr style=\"text-align: right;\">\n",
              "      <th></th>\n",
              "      <th>count</th>\n",
              "      <th>mean</th>\n",
              "      <th>std</th>\n",
              "      <th>min</th>\n",
              "      <th>25%</th>\n",
              "      <th>50%</th>\n",
              "      <th>75%</th>\n",
              "      <th>max</th>\n",
              "    </tr>\n",
              "  </thead>\n",
              "  <tbody>\n",
              "    <tr>\n",
              "      <th>PCA_1</th>\n",
              "      <td>984.0</td>\n",
              "      <td>5709.81</td>\n",
              "      <td>48816.34</td>\n",
              "      <td>-77526.15</td>\n",
              "      <td>-41383.87</td>\n",
              "      <td>10609.87</td>\n",
              "      <td>49322.36</td>\n",
              "      <td>94407.85</td>\n",
              "    </tr>\n",
              "    <tr>\n",
              "      <th>PCA_2</th>\n",
              "      <td>984.0</td>\n",
              "      <td>13.73</td>\n",
              "      <td>219.40</td>\n",
              "      <td>-93.62</td>\n",
              "      <td>-84.64</td>\n",
              "      <td>-69.03</td>\n",
              "      <td>7.98</td>\n",
              "      <td>2190.01</td>\n",
              "    </tr>\n",
              "    <tr>\n",
              "      <th>PCA_3</th>\n",
              "      <td>984.0</td>\n",
              "      <td>2.52</td>\n",
              "      <td>5.87</td>\n",
              "      <td>-2.32</td>\n",
              "      <td>-1.21</td>\n",
              "      <td>0.79</td>\n",
              "      <td>2.96</td>\n",
              "      <td>32.41</td>\n",
              "    </tr>\n",
              "    <tr>\n",
              "      <th>Class</th>\n",
              "      <td>984.0</td>\n",
              "      <td>0.50</td>\n",
              "      <td>0.50</td>\n",
              "      <td>0.00</td>\n",
              "      <td>0.00</td>\n",
              "      <td>0.50</td>\n",
              "      <td>1.00</td>\n",
              "      <td>1.00</td>\n",
              "    </tr>\n",
              "  </tbody>\n",
              "</table>\n",
              "</div>"
            ],
            "text/plain": [
              "       count     mean       std       min       25%       50%       75%  \\\n",
              "PCA_1  984.0  5709.81  48816.34 -77526.15 -41383.87  10609.87  49322.36   \n",
              "PCA_2  984.0    13.73    219.40    -93.62    -84.64    -69.03      7.98   \n",
              "PCA_3  984.0     2.52      5.87     -2.32     -1.21      0.79      2.96   \n",
              "Class  984.0     0.50      0.50      0.00      0.00      0.50      1.00   \n",
              "\n",
              "            max  \n",
              "PCA_1  94407.85  \n",
              "PCA_2   2190.01  \n",
              "PCA_3     32.41  \n",
              "Class      1.00  "
            ]
          },
          "execution_count": 3,
          "metadata": {},
          "output_type": "execute_result"
        }
      ],
      "source": [
        "df.describe().round(2).T"
      ]
    },
    {
      "cell_type": "code",
      "execution_count": 4,
      "metadata": {
        "colab": {
          "base_uri": "https://localhost:8080/"
        },
        "id": "tt0WtTfse6pz",
        "outputId": "7dfa45bc-90f5-4f71-a2c6-8f35b3406077"
      },
      "outputs": [
        {
          "data": {
            "text/plain": [
              "0      1\n",
              "1      1\n",
              "2      1\n",
              "3      1\n",
              "4      1\n",
              "      ..\n",
              "979    0\n",
              "980    0\n",
              "981    0\n",
              "982    0\n",
              "983    0\n",
              "Name: Class, Length: 984, dtype: int64"
            ]
          },
          "execution_count": 4,
          "metadata": {},
          "output_type": "execute_result"
        }
      ],
      "source": [
        "label = df.pop(  'Class'  )\n",
        "label"
      ]
    },
    {
      "cell_type": "code",
      "execution_count": 5,
      "metadata": {
        "colab": {
          "base_uri": "https://localhost:8080/",
          "height": 488
        },
        "id": "PNdVDoSue6p1",
        "outputId": "46472bb1-b1e6-48fd-adbf-36bcdfba0f06"
      },
      "outputs": [
        {
          "data": {
            "text/html": [
              "<div>\n",
              "<style scoped>\n",
              "    .dataframe tbody tr th:only-of-type {\n",
              "        vertical-align: middle;\n",
              "    }\n",
              "\n",
              "    .dataframe tbody tr th {\n",
              "        vertical-align: top;\n",
              "    }\n",
              "\n",
              "    .dataframe thead th {\n",
              "        text-align: right;\n",
              "    }\n",
              "</style>\n",
              "<table border=\"1\" class=\"dataframe\">\n",
              "  <thead>\n",
              "    <tr style=\"text-align: right;\">\n",
              "      <th></th>\n",
              "      <th>PCA_1</th>\n",
              "      <th>PCA_2</th>\n",
              "      <th>PCA_3</th>\n",
              "    </tr>\n",
              "  </thead>\n",
              "  <tbody>\n",
              "    <tr>\n",
              "      <th>0</th>\n",
              "      <td>1.817898</td>\n",
              "      <td>-0.489533</td>\n",
              "      <td>-0.037348</td>\n",
              "    </tr>\n",
              "    <tr>\n",
              "      <th>1</th>\n",
              "      <td>1.816546</td>\n",
              "      <td>1.922843</td>\n",
              "      <td>-0.138967</td>\n",
              "    </tr>\n",
              "    <tr>\n",
              "      <th>2</th>\n",
              "      <td>1.734770</td>\n",
              "      <td>0.605623</td>\n",
              "      <td>-0.108277</td>\n",
              "    </tr>\n",
              "    <tr>\n",
              "      <th>3</th>\n",
              "      <td>1.683039</td>\n",
              "      <td>-0.218790</td>\n",
              "      <td>0.284689</td>\n",
              "    </tr>\n",
              "    <tr>\n",
              "      <th>4</th>\n",
              "      <td>1.672115</td>\n",
              "      <td>-0.483187</td>\n",
              "      <td>-0.555744</td>\n",
              "    </tr>\n",
              "    <tr>\n",
              "      <th>...</th>\n",
              "      <td>...</td>\n",
              "      <td>...</td>\n",
              "      <td>...</td>\n",
              "    </tr>\n",
              "    <tr>\n",
              "      <th>979</th>\n",
              "      <td>-1.609540</td>\n",
              "      <td>0.216402</td>\n",
              "      <td>-0.248682</td>\n",
              "    </tr>\n",
              "    <tr>\n",
              "      <th>980</th>\n",
              "      <td>-0.714713</td>\n",
              "      <td>-0.382610</td>\n",
              "      <td>-0.374474</td>\n",
              "    </tr>\n",
              "    <tr>\n",
              "      <th>981</th>\n",
              "      <td>-1.318076</td>\n",
              "      <td>-0.113131</td>\n",
              "      <td>-0.742509</td>\n",
              "    </tr>\n",
              "    <tr>\n",
              "      <th>982</th>\n",
              "      <td>-0.671099</td>\n",
              "      <td>-0.422425</td>\n",
              "      <td>-0.237957</td>\n",
              "    </tr>\n",
              "    <tr>\n",
              "      <th>983</th>\n",
              "      <td>-1.024029</td>\n",
              "      <td>-0.445624</td>\n",
              "      <td>0.214702</td>\n",
              "    </tr>\n",
              "  </tbody>\n",
              "</table>\n",
              "<p>984 rows × 3 columns</p>\n",
              "</div>"
            ],
            "text/plain": [
              "        PCA_1     PCA_2     PCA_3\n",
              "0    1.817898 -0.489533 -0.037348\n",
              "1    1.816546  1.922843 -0.138967\n",
              "2    1.734770  0.605623 -0.108277\n",
              "3    1.683039 -0.218790  0.284689\n",
              "4    1.672115 -0.483187 -0.555744\n",
              "..        ...       ...       ...\n",
              "979 -1.609540  0.216402 -0.248682\n",
              "980 -0.714713 -0.382610 -0.374474\n",
              "981 -1.318076 -0.113131 -0.742509\n",
              "982 -0.671099 -0.422425 -0.237957\n",
              "983 -1.024029 -0.445624  0.214702\n",
              "\n",
              "[984 rows x 3 columns]"
            ]
          },
          "execution_count": 5,
          "metadata": {},
          "output_type": "execute_result"
        }
      ],
      "source": [
        "sc = StandardScaler()\n",
        "for col in df.columns:\n",
        "    df[[col]] = sc.fit_transform( df[[col]]  )\n",
        "\n",
        "\n",
        "df"
      ]
    },
    {
      "attachments": {},
      "cell_type": "markdown",
      "metadata": {
        "id": "Ar_S8NM-MDF7"
      },
      "source": [
        "# Class balance\n",
        "### Notice the ratio of fraudulent to non-fraudulent transaction"
      ]
    },
    {
      "cell_type": "code",
      "execution_count": 6,
      "metadata": {
        "colab": {
          "base_uri": "https://localhost:8080/"
        },
        "id": "W_WJRpC_L9aI",
        "outputId": "af5d3e16-590b-41da-8126-2a8da23150ed"
      },
      "outputs": [
        {
          "data": {
            "text/plain": [
              "1    492\n",
              "0    492\n",
              "Name: Class, dtype: int64"
            ]
          },
          "execution_count": 6,
          "metadata": {},
          "output_type": "execute_result"
        }
      ],
      "source": [
        "label.value_counts()"
      ]
    },
    {
      "cell_type": "code",
      "execution_count": 7,
      "metadata": {
        "colab": {
          "base_uri": "https://localhost:8080/"
        },
        "id": "90hZMEhIMH33",
        "outputId": "3335b5a5-63cd-4035-d306-9d83945b7c1e"
      },
      "outputs": [
        {
          "data": {
            "text/plain": [
              "1    0.5\n",
              "0    0.5\n",
              "Name: Class, dtype: float64"
            ]
          },
          "execution_count": 7,
          "metadata": {},
          "output_type": "execute_result"
        }
      ],
      "source": [
        "label.value_counts(normalize=True)"
      ]
    },
    {
      "cell_type": "code",
      "execution_count": 8,
      "metadata": {
        "colab": {
          "base_uri": "https://localhost:8080/"
        },
        "id": "an8Y6zM-shhf",
        "outputId": "b2ecfb8d-ec4b-4b33-9c9d-4156c38d1e39"
      },
      "outputs": [],
      "source": [
        "#Separate features and labels\n",
        "X = df.values\n",
        "y = label.values\n",
        "\n",
        "\n",
        "\n",
        "x_train,x_test,y_train,y_test = train_test_split(X,y,test_size=0.1,stratify=y)\n"
      ]
    },
    {
      "cell_type": "markdown",
      "metadata": {
        "id": "EHZM93GfMZM7"
      },
      "source": [
        "#  \n",
        "#  Build a Gradient Boosting Model\n",
        "###  \n",
        "\n",
        "In this section we'll do k-fold cross validation and use gradient boosting for the prediction algorithm.We'll build our own cross validation loop for gradient boosting.  "
      ]
    },
    {
      "cell_type": "code",
      "execution_count": 9,
      "metadata": {},
      "outputs": [
        {
          "data": {
            "text/plain": [
              "10"
            ]
          },
          "execution_count": 9,
          "metadata": {},
          "output_type": "execute_result"
        }
      ],
      "source": [
        "skf = StratifiedKFold(n_splits=10) #use StratifiedKFold package to define data splits for fold\n",
        "skf.get_n_splits(x_train, y_train)"
      ]
    },
    {
      "cell_type": "code",
      "execution_count": 10,
      "metadata": {
        "id": "nwjhn7beMkYt"
      },
      "outputs": [
        {
          "name": "stderr",
          "output_type": "stream",
          "text": [
            "/home/harshit/virtualenv/lib/python3.10/site-packages/xgboost/sklearn.py:1395: UserWarning: `use_label_encoder` is deprecated in 1.7.0.\n",
            "  warnings.warn(\"`use_label_encoder` is deprecated in 1.7.0.\")\n"
          ]
        }
      ],
      "source": [
        "params = {'max_depth': 6,\n",
        "         'n_estimators': 500,\n",
        "         'learning_rate': 0.07,\n",
        "         'objective': 'binary:logistic',\n",
        "         'eval_metric': 'error',\n",
        "         'alpha': 5,\n",
        "         'nthread': 5,\n",
        "         'verbosity': 1}\n",
        "\n",
        "         \n",
        "results_list = []\n",
        "for train_index, val_index in skf.split(x_train, y_train):\n",
        "\n",
        "    x_tr, x_val = x_train[train_index, :], x_train[val_index, :]\n",
        "    y_tr, y_val = y_train[train_index], y_train[val_index]\n",
        "\n",
        "    model = xgb.XGBClassifier(**params, use_label_encoder=False)\n",
        "    model.fit(x_tr, y_tr, eval_set=[(x_tr, y_tr), (x_val, y_val)], verbose=False)\n",
        "    \n",
        "    results = model.evals_result()\n",
        "    results_list.append(results)"
      ]
    },
    {
      "cell_type": "code",
      "execution_count": 11,
      "metadata": {
        "id": "vJ-6hqm7MwA_"
      },
      "outputs": [],
      "source": [
        "# tr_avg = [sum([results_list[j]['validation_0']['error'][i] for j in range(10)])/10 for \n",
        "#           i in range(len(results_list[0]['validation_0']['error']))]\n",
        "\n",
        "# val_avg = [sum([results_list[j]['validation_1']['error'][i] for j in range(10)])/10 for \n",
        "#           i in range(len(results_list[0]['validation_1']['error']))]\n",
        "\n",
        "# pe.line(tr_avg)\n",
        "# pe.line(val_avg)\n",
        "\n",
        "\n",
        "# # pe.xlabel('number of trees')\n",
        "# # pe.ylabel('error')\n",
        "# # pe.show()"
      ]
    },
    {
      "cell_type": "code",
      "execution_count": 12,
      "metadata": {
        "id": "7m6ZMmCPMzFv"
      },
      "outputs": [
        {
          "name": "stdout",
          "output_type": "stream",
          "text": [
            "confusion matrix with 0.5 threshold \n",
            " [[40  9]\n",
            " [ 5 45]]\n",
            "confusion matrix with 0.75 threshold \n",
            " [[47  2]\n",
            " [13 37]]\n",
            "confusion matrix with 0.25 threshold \n",
            " [[31 18]\n",
            " [ 2 48]]\n"
          ]
        }
      ],
      "source": [
        "te_probs_gbm = model.predict_proba(x_test)\n",
        "prob1 = [x[1] for x in te_probs_gbm] #linear model returns prob of both binary outcomes\n",
        "\n",
        "#threshold at 0.5\n",
        "y_te_05 = [int(x + 0.5) for x in prob1]\n",
        "y_te_75 = [int(x + 0.25) for x in prob1]\n",
        "y_te_25 = [int(x + 0.75) for x in prob1]\n",
        "\n",
        "conf_mat05 = confusion_matrix(y_test, y_te_05)\n",
        "conf_mat75 = confusion_matrix(y_test, y_te_75)\n",
        "conf_mat25 = confusion_matrix(y_test, y_te_25)\n",
        "\n",
        "print('confusion matrix with 0.5 threshold \\n', conf_mat05)\n",
        "print('confusion matrix with 0.75 threshold \\n', conf_mat75)\n",
        "print('confusion matrix with 0.25 threshold \\n', conf_mat25)"
      ]
    },
    {
      "cell_type": "code",
      "execution_count": 13,
      "metadata": {
        "id": "D9O1jFKGM2is"
      },
      "outputs": [
        {
          "name": "stdout",
          "output_type": "stream",
          "text": [
            "              precision    recall  f1-score   support\n",
            "\n",
            "           0       0.82      0.89      0.85        45\n",
            "           1       0.90      0.83      0.87        54\n",
            "\n",
            "    accuracy                           0.86        99\n",
            "   macro avg       0.86      0.86      0.86        99\n",
            "weighted avg       0.86      0.86      0.86        99\n",
            "\n"
          ]
        }
      ],
      "source": [
        "predicted_y = model.predict(x_test)\n",
        "\n",
        "print(classification_report(predicted_y, y_test))\n",
        "\n"
      ]
    },
    {
      "attachments": {},
      "cell_type": "markdown",
      "metadata": {
        "id": "xOKCd_yJM5kc"
      },
      "source": [
        "##  Feature importance\n"
      ]
    },
    {
      "cell_type": "code",
      "execution_count": 14,
      "metadata": {
        "id": "ru1ag5g_M8Dq"
      },
      "outputs": [
        {
          "data": {
            "text/html": [
              "<div>\n",
              "<style scoped>\n",
              "    .dataframe tbody tr th:only-of-type {\n",
              "        vertical-align: middle;\n",
              "    }\n",
              "\n",
              "    .dataframe tbody tr th {\n",
              "        vertical-align: top;\n",
              "    }\n",
              "\n",
              "    .dataframe thead th {\n",
              "        text-align: right;\n",
              "    }\n",
              "</style>\n",
              "<table border=\"1\" class=\"dataframe\">\n",
              "  <thead>\n",
              "    <tr style=\"text-align: right;\">\n",
              "      <th></th>\n",
              "      <th>0</th>\n",
              "    </tr>\n",
              "  </thead>\n",
              "  <tbody>\n",
              "    <tr>\n",
              "      <th>PCA_1</th>\n",
              "      <td>0.065525</td>\n",
              "    </tr>\n",
              "    <tr>\n",
              "      <th>PCA_2</th>\n",
              "      <td>0.218384</td>\n",
              "    </tr>\n",
              "    <tr>\n",
              "      <th>PCA_3</th>\n",
              "      <td>0.716091</td>\n",
              "    </tr>\n",
              "  </tbody>\n",
              "</table>\n",
              "</div>"
            ],
            "text/plain": [
              "              0\n",
              "PCA_1  0.065525\n",
              "PCA_2  0.218384\n",
              "PCA_3  0.716091"
            ]
          },
          "metadata": {},
          "output_type": "display_data"
        }
      ],
      "source": [
        "columns = df.columns\n",
        "\n",
        "feature_importance_df = pd.DataFrame.from_dict(dict(zip(columns, model.feature_importances_)), orient='index')\n",
        "display(feature_importance_df)"
      ]
    }
  ],
  "metadata": {
    "colab": {
      "provenance": []
    },
    "kernelspec": {
      "display_name": "virtualenv",
      "language": "python",
      "name": "python3"
    },
    "language_info": {
      "codemirror_mode": {
        "name": "ipython",
        "version": 3
      },
      "file_extension": ".py",
      "mimetype": "text/x-python",
      "name": "python",
      "nbconvert_exporter": "python",
      "pygments_lexer": "ipython3",
      "version": "3.10.6"
    },
    "vscode": {
      "interpreter": {
        "hash": "d01e6418c1ee8dcb44e8c7248b9d4d1e94a254f0e05c83ed8a77cbe4ff288cd2"
      }
    }
  },
  "nbformat": 4,
  "nbformat_minor": 0
}
